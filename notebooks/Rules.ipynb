{
 "cells": [
  {
   "cell_type": "code",
   "execution_count": 11,
   "id": "48607914-1fbc-4098-a30f-41a611afb8ba",
   "metadata": {},
   "outputs": [],
   "source": [
    "from indra_cogex.sources.odinson.grammars import Rule\n",
    "from indra_cogex.sources.odinson.client import process_rules\n",
    "import gilda\n",
    "import pandas as pd\n",
    "from collections import defaultdict\n",
    "from gilda.process import normalize"
   ]
  },
  {
   "cell_type": "code",
   "execution_count": 13,
   "id": "aeaba167-7050-424d-8fc6-30ff150133cb",
   "metadata": {},
   "outputs": [
    {
     "data": {
      "text/plain": [
       "<gilda.grounder.Grounder at 0x13717a450>"
      ]
     },
     "execution_count": 13,
     "metadata": {},
     "output_type": "execute_result"
    }
   ],
   "source": [
    "df = pd.read_csv('spine.tsv', sep = '\\t', header = None, names = ['name', 'id'])\n",
    "id_to_names = defaultdict(list)\n",
    "for name,identifier in df.values:\n",
    "    id_to_names[identifier].append(name)\n",
    "terms = []\n",
    "for id, names in id_to_names.items():\n",
    "    name,*synonyms = names\n",
    "    term = gilda.term.Term(\n",
    "                norm_text=normalize(name),\n",
    "                text=name,\n",
    "                db=\"spine\",\n",
    "                id=identifier,\n",
    "                entry_name=name,\n",
    "                status=\"name\",\n",
    "                source=\"spine\",\n",
    "            )\n",
    "    terms.append(term)\n",
    "    for synonym in synonyms:\n",
    "        term = gilda.term.Term(\n",
    "                norm_text=normalize(synonym),\n",
    "                text=synonym,\n",
    "                db=\"spine\",\n",
    "                id=identifier,\n",
    "                entry_name=name,\n",
    "                status=\"synonym\",\n",
    "                source=\"spine\",\n",
    "            )\n",
    "        terms.append(term)\n",
    "grounder = gilda.Grounder(terms)\n",
    "grounder"
   ]
  },
  {
   "cell_type": "code",
   "execution_count": 2,
   "id": "9a1a9714-5ba9-4036-afa9-18b1a55961ce",
   "metadata": {},
   "outputs": [],
   "source": [
    "regionconnect=Rule(\"anatomical connection\", \"Exp\", \"basic\", \"(?<connector> [entity=B-TissueType][entity=I-TissueType]*)[lemma=connect]\")"
   ]
  },
  {
   "cell_type": "code",
   "execution_count": 15,
   "id": "b860d51b-148f-41eb-ae04-b427bb787ba8",
   "metadata": {},
   "outputs": [
    {
     "name": "stdout",
     "output_type": "stream",
     "text": [
      "[(('spine:4478', 'fornix'),), (('spine:4478', 'anterior commissure'),), (('mesh:D001921', 'brain'),), (('mesh:D013702', 'temporal cortex'),), (('spine:4478', 'acoustic radiation'),), (('spine:4478', 'anterior commissure'),)]\n"
     ]
    }
   ],
   "source": [
    "#get the start and end numbers\n",
    "rule_output = process_rules([regionconnect],\"http://localhost:9000\")\n",
    "relations = []\n",
    "for sentence in rule_output['mentions']:\n",
    "    relation = ()\n",
    "    words = sentence['words']\n",
    "    for element in sentence['match']:       \n",
    "        for entity in element['namedCaptures']:\n",
    "            start = entity['capturedMatch']['start']\n",
    "            end = entity['capturedMatch']['end']\n",
    "            word = ' '.join(words[start:end])\n",
    "            spine_scored_match = grounder.ground(word)\n",
    "            gilda_scored_match = gilda.ground(word)\n",
    "            if len(gilda_scored_match)>0:\n",
    "                best_curie = gilda_scored_match[0].term.get_curie()\n",
    "            elif len(spine_scored_match)>0:\n",
    "                best_curie = spine_scored_match[0].term.get_curie()\n",
    "            else:\n",
    "                best_curie = None\n",
    "            relation += ((best_curie, word),)            \n",
    "    relations.append(relation)\n",
    "print(relations)\n",
    "            \n",
    "            "
   ]
  },
  {
   "cell_type": "code",
   "execution_count": null,
   "id": "d16e2cef-1162-4b86-8175-cf8830f6833e",
   "metadata": {},
   "outputs": [],
   "source": []
  },
  {
   "cell_type": "code",
   "execution_count": 4,
   "id": "7ab540d4-edef-4af1-9792-baeb1afd093d",
   "metadata": {},
   "outputs": [
    {
     "data": {
      "text/plain": [
       "'fplx:ESR'"
      ]
     },
     "execution_count": 4,
     "metadata": {},
     "output_type": "execute_result"
    }
   ],
   "source": [
    "scoredmatches = gilda.ground('ER')\n",
    "scoredmatches[0].term.get_curie()"
   ]
  }
 ],
 "metadata": {
  "kernelspec": {
   "display_name": "Python 3 (ipykernel)",
   "language": "python",
   "name": "python3"
  },
  "language_info": {
   "codemirror_mode": {
    "name": "ipython",
    "version": 3
   },
   "file_extension": ".py",
   "mimetype": "text/x-python",
   "name": "python",
   "nbconvert_exporter": "python",
   "pygments_lexer": "ipython3",
   "version": "3.11.5"
  }
 },
 "nbformat": 4,
 "nbformat_minor": 5
}
