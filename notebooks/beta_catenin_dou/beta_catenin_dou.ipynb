{
 "cells": [
  {
   "cell_type": "code",
   "execution_count": 3,
   "id": "d11a7ef4",
   "metadata": {},
   "outputs": [
    {
     "ename": "ModuleNotFoundError",
     "evalue": "No module named 'gene_analysis'",
     "output_type": "error",
     "traceback": [
      "\u001b[0;31m---------------------------------------------------------------------------\u001b[0m",
      "\u001b[0;31mModuleNotFoundError\u001b[0m                       Traceback (most recent call last)",
      "Cell \u001b[0;32mIn[3], line 1\u001b[0m\n\u001b[0;32m----> 1\u001b[0m \u001b[38;5;28;01mfrom\u001b[39;00m \u001b[38;5;21;01mindra_cogex\u001b[39;00m\u001b[38;5;21;01m.\u001b[39;00m\u001b[38;5;21;01manalysis\u001b[39;00m\u001b[38;5;21;01m.\u001b[39;00m\u001b[38;5;21;01mprotein_analysis\u001b[39;00m \u001b[38;5;28;01mimport\u001b[39;00m explain_downstream\n\u001b[1;32m      2\u001b[0m \u001b[38;5;28;01mfrom\u001b[39;00m \u001b[38;5;21;01mindra_cogex\u001b[39;00m\u001b[38;5;21;01m.\u001b[39;00m\u001b[38;5;21;01manalysis\u001b[39;00m\u001b[38;5;21;01m.\u001b[39;00m\u001b[38;5;21;01mgene_analysis\u001b[39;00m \u001b[38;5;28;01mimport\u001b[39;00m explain_downstream\n\u001b[1;32m      4\u001b[0m source_protein_name \u001b[38;5;241m=\u001b[39m \u001b[38;5;124m'\u001b[39m\u001b[38;5;124mCTNNB1\u001b[39m\u001b[38;5;124m'\u001b[39m\n",
      "File \u001b[0;32m~/Documents/GitHub/indra_cogex/src/indra_cogex/analysis/protein_analysis.py:27\u001b[0m\n\u001b[1;32m     23\u001b[0m \u001b[38;5;28;01mfrom\u001b[39;00m \u001b[38;5;21;01mindra_cogex\u001b[39;00m\u001b[38;5;21;01m.\u001b[39;00m\u001b[38;5;21;01mclient\u001b[39;00m \u001b[38;5;28;01mimport\u001b[39;00m \u001b[38;5;241m*\u001b[39m\n\u001b[1;32m     25\u001b[0m logger \u001b[38;5;241m=\u001b[39m logging\u001b[38;5;241m.\u001b[39mgetLogger(\u001b[38;5;18m__name__\u001b[39m)\n\u001b[0;32m---> 27\u001b[0m \u001b[38;5;28;01mfrom\u001b[39;00m \u001b[38;5;21;01mgene_analysis\u001b[39;00m \u001b[38;5;28;01mimport\u001b[39;00m discrete_analysis\n\u001b[1;32m     29\u001b[0m client \u001b[38;5;241m=\u001b[39m Neo4jClient()\n\u001b[1;32m     31\u001b[0m \u001b[38;5;28;01mdef\u001b[39;00m \u001b[38;5;21mget_valid_gene_id\u001b[39m(gene_name):\n",
      "\u001b[0;31mModuleNotFoundError\u001b[0m: No module named 'gene_analysis'"
     ]
    }
   ],
   "source": [
    "from indra_cogex.analysis.protein_analysis import explain_downstream\n",
    "from indra_cogex.analysis.gene_analysis import discrete_analysis\n",
    "\n",
    "source_protein_name = 'CTNNB1'\n",
    "\n",
    "target_protein_names = ['GLCE', 'ACSL5', 'APCDD1', 'ADAMTSL2', 'CALML3', 'CEMIP2',\n",
    "                        'AMOT', 'PLA2G4A', 'RCN2', 'TTC9', 'FABP4', 'GPCPD1', 'VSNL1',\n",
    "                        'CRYBB1', 'PDZD8', 'FNDC3A']\n",
    "\n",
    "explain_downstream(source_protein_name, target_protein_names, 'analysis_test')"
   ]
  },
  {
   "cell_type": "code",
   "execution_count": null,
   "id": "9c2aed0a",
   "metadata": {},
   "outputs": [],
   "source": []
  }
 ],
 "metadata": {
  "kernelspec": {
   "display_name": "Python 3 (ipykernel)",
   "language": "python",
   "name": "python3"
  },
  "language_info": {
   "codemirror_mode": {
    "name": "ipython",
    "version": 3
   },
   "file_extension": ".py",
   "mimetype": "text/x-python",
   "name": "python",
   "nbconvert_exporter": "python",
   "pygments_lexer": "ipython3",
   "version": "3.10.13"
  }
 },
 "nbformat": 4,
 "nbformat_minor": 5
}
