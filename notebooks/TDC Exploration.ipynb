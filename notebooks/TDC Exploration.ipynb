{
 "cells": [
  {
   "cell_type": "code",
   "execution_count": 3,
   "id": "2427b22d",
   "metadata": {},
   "outputs": [
    {
     "data": {
      "text/plain": [
       "[('601100', '132150'),\n",
       " ('65411', '132267'),\n",
       " ('92042760', '132304'),\n",
       " ('10322911', '132314'),\n",
       " ('101936043', '132315')]"
      ]
     },
     "execution_count": 3,
     "metadata": {},
     "output_type": "execute_result"
    }
   ],
   "source": [
    "import pyobo\n",
    "\n",
    "pubchem_to_chebi = pyobo.get_xrefs(\"chebi\", \"pubchem.compound\", flip=True)\n",
    "list(pubchem_to_chebi.items())[:5]"
   ]
  },
  {
   "cell_type": "code",
   "execution_count": 42,
   "id": "fe6d49e2",
   "metadata": {},
   "outputs": [
    {
     "name": "stderr",
     "output_type": "stream",
     "text": [
      "100%|████████████████████████████████████████████████████████████████████████████████████████████████████████████████████| 2.59M/2.59M [00:01<00:00, 1.88MiB/s]\n",
      "Done!\n"
     ]
    },
    {
     "data": {
      "text/markdown": [
       "### hiv"
      ],
      "text/plain": [
       "<IPython.core.display.Markdown object>"
      ]
     },
     "metadata": {},
     "output_type": "display_data"
    },
    {
     "data": {
      "text/html": [
       "<div>\n",
       "<style scoped>\n",
       "    .dataframe tbody tr th:only-of-type {\n",
       "        vertical-align: middle;\n",
       "    }\n",
       "\n",
       "    .dataframe tbody tr th {\n",
       "        vertical-align: top;\n",
       "    }\n",
       "\n",
       "    .dataframe thead th {\n",
       "        text-align: right;\n",
       "    }\n",
       "</style>\n",
       "<table border=\"1\" class=\"dataframe\">\n",
       "  <thead>\n",
       "    <tr style=\"text-align: right;\">\n",
       "      <th></th>\n",
       "      <th>Drug_ID</th>\n",
       "      <th>Drug</th>\n",
       "      <th>Y</th>\n",
       "    </tr>\n",
       "  </thead>\n",
       "  <tbody>\n",
       "    <tr>\n",
       "      <th>0</th>\n",
       "      <td>Drug 0</td>\n",
       "      <td>CCC1=[O+][Cu-3]2([O+]=C(CC)C1)[O+]=C(CC)CC(CC)...</td>\n",
       "      <td>0</td>\n",
       "    </tr>\n",
       "    <tr>\n",
       "      <th>1</th>\n",
       "      <td>Drug 2</td>\n",
       "      <td>CC(=O)N1c2ccccc2Sc2c1ccc1ccccc21</td>\n",
       "      <td>0</td>\n",
       "    </tr>\n",
       "    <tr>\n",
       "      <th>2</th>\n",
       "      <td>Drug 5</td>\n",
       "      <td>CCOP(=O)(Nc1cccc(Cl)c1)OCC</td>\n",
       "      <td>0</td>\n",
       "    </tr>\n",
       "    <tr>\n",
       "      <th>3</th>\n",
       "      <td>Drug 6</td>\n",
       "      <td>O=C(O)c1ccccc1O</td>\n",
       "      <td>0</td>\n",
       "    </tr>\n",
       "    <tr>\n",
       "      <th>4</th>\n",
       "      <td>Drug 8</td>\n",
       "      <td>O=[N+]([O-])c1ccc(SSc2ccc([N+](=O)[O-])cc2[N+]...</td>\n",
       "      <td>0</td>\n",
       "    </tr>\n",
       "    <tr>\n",
       "      <th>...</th>\n",
       "      <td>...</td>\n",
       "      <td>...</td>\n",
       "      <td>...</td>\n",
       "    </tr>\n",
       "    <tr>\n",
       "      <th>28784</th>\n",
       "      <td>Drug 41119</td>\n",
       "      <td>Cc1ccc(N2C(=O)C3c4[nH]c5ccc(C)cc5c4C4CCC(C(C)(...</td>\n",
       "      <td>0</td>\n",
       "    </tr>\n",
       "    <tr>\n",
       "      <th>28785</th>\n",
       "      <td>Drug 41122</td>\n",
       "      <td>CCC1CCC2c3c([nH]c4ccc(C)cc34)C3C(=O)N(N(C)C)C(...</td>\n",
       "      <td>0</td>\n",
       "    </tr>\n",
       "    <tr>\n",
       "      <th>28786</th>\n",
       "      <td>Drug 41123</td>\n",
       "      <td>Cc1ccc2[nH]c3c(c2c1)C1CCC(C(C)(C)C)CC1C1C(=O)N...</td>\n",
       "      <td>0</td>\n",
       "    </tr>\n",
       "    <tr>\n",
       "      <th>28787</th>\n",
       "      <td>Drug 41125</td>\n",
       "      <td>Cc1cccc(N2C(=O)C3c4[nH]c5ccccc5c4C4CCC(C(C)(C)...</td>\n",
       "      <td>0</td>\n",
       "    </tr>\n",
       "    <tr>\n",
       "      <th>28788</th>\n",
       "      <td>Drug 41126</td>\n",
       "      <td>CCCCCC=C(c1cc(Cl)c(OC)c(-c2nc(C)no2)c1)c1cc(Cl...</td>\n",
       "      <td>0</td>\n",
       "    </tr>\n",
       "  </tbody>\n",
       "</table>\n",
       "<p>28789 rows × 3 columns</p>\n",
       "</div>"
      ],
      "text/plain": [
       "          Drug_ID                                               Drug  Y\n",
       "0          Drug 0  CCC1=[O+][Cu-3]2([O+]=C(CC)C1)[O+]=C(CC)CC(CC)...  0\n",
       "1          Drug 2                   CC(=O)N1c2ccccc2Sc2c1ccc1ccccc21  0\n",
       "2          Drug 5                         CCOP(=O)(Nc1cccc(Cl)c1)OCC  0\n",
       "3          Drug 6                                    O=C(O)c1ccccc1O  0\n",
       "4          Drug 8  O=[N+]([O-])c1ccc(SSc2ccc([N+](=O)[O-])cc2[N+]...  0\n",
       "...           ...                                                ... ..\n",
       "28784  Drug 41119  Cc1ccc(N2C(=O)C3c4[nH]c5ccc(C)cc5c4C4CCC(C(C)(...  0\n",
       "28785  Drug 41122  CCC1CCC2c3c([nH]c4ccc(C)cc34)C3C(=O)N(N(C)C)C(...  0\n",
       "28786  Drug 41123  Cc1ccc2[nH]c3c(c2c1)C1CCC(C(C)(C)C)CC1C1C(=O)N...  0\n",
       "28787  Drug 41125  Cc1cccc(N2C(=O)C3c4[nH]c5ccccc5c4C4CCC(C(C)(C)...  0\n",
       "28788  Drug 41126  CCCCCC=C(c1cc(Cl)c(OC)c(-c2nc(C)no2)c1)c1cc(Cl...  0\n",
       "\n",
       "[28789 rows x 3 columns]"
      ]
     },
     "metadata": {},
     "output_type": "display_data"
    },
    {
     "name": "stderr",
     "output_type": "stream",
     "text": [
      "100%|████████████████████████████████████████████████████████████████████████████████████████████████████████████████████| 28.9k/28.9k [00:00<00:00, 9.88MiB/s]\n",
      "Done!\n"
     ]
    },
    {
     "data": {
      "text/markdown": [
       "### sarscov2_3clpro_diamond"
      ],
      "text/plain": [
       "<IPython.core.display.Markdown object>"
      ]
     },
     "metadata": {},
     "output_type": "display_data"
    },
    {
     "data": {
      "text/html": [
       "<div>\n",
       "<style scoped>\n",
       "    .dataframe tbody tr th:only-of-type {\n",
       "        vertical-align: middle;\n",
       "    }\n",
       "\n",
       "    .dataframe tbody tr th {\n",
       "        vertical-align: top;\n",
       "    }\n",
       "\n",
       "    .dataframe thead th {\n",
       "        text-align: right;\n",
       "    }\n",
       "</style>\n",
       "<table border=\"1\" class=\"dataframe\">\n",
       "  <thead>\n",
       "    <tr style=\"text-align: right;\">\n",
       "      <th></th>\n",
       "      <th>Drug_ID</th>\n",
       "      <th>Drug</th>\n",
       "      <th>Y</th>\n",
       "    </tr>\n",
       "  </thead>\n",
       "  <tbody>\n",
       "    <tr>\n",
       "      <th>0</th>\n",
       "      <td>1</td>\n",
       "      <td>CC(=O)NCCc1c[nH]c2ccc(F)cc12</td>\n",
       "      <td>1</td>\n",
       "    </tr>\n",
       "    <tr>\n",
       "      <th>1</th>\n",
       "      <td>2</td>\n",
       "      <td>NC(=O)[C@H]1CCC[C@H]1c1ccsc1</td>\n",
       "      <td>1</td>\n",
       "    </tr>\n",
       "    <tr>\n",
       "      <th>2</th>\n",
       "      <td>3</td>\n",
       "      <td>CN1CCCc2ccc(S(N)(=O)=O)cc21</td>\n",
       "      <td>1</td>\n",
       "    </tr>\n",
       "    <tr>\n",
       "      <th>3</th>\n",
       "      <td>4</td>\n",
       "      <td>CC(=O)Nc1ccc(Oc2ncccn2)cc1</td>\n",
       "      <td>1</td>\n",
       "    </tr>\n",
       "    <tr>\n",
       "      <th>4</th>\n",
       "      <td>6</td>\n",
       "      <td>O=C(CCl)N1CCN(S(=O)(=O)c2ccc(Cl)cc2)CC1</td>\n",
       "      <td>1</td>\n",
       "    </tr>\n",
       "    <tr>\n",
       "      <th>...</th>\n",
       "      <td>...</td>\n",
       "      <td>...</td>\n",
       "      <td>...</td>\n",
       "    </tr>\n",
       "    <tr>\n",
       "      <th>611</th>\n",
       "      <td>872</td>\n",
       "      <td>CCN(CC)S(=O)(=O)c1ccc(C)cc1</td>\n",
       "      <td>0</td>\n",
       "    </tr>\n",
       "    <tr>\n",
       "      <th>612</th>\n",
       "      <td>873</td>\n",
       "      <td>O=C(Nc1ccc(F)cc1)Nc1cccc(O)c1</td>\n",
       "      <td>0</td>\n",
       "    </tr>\n",
       "    <tr>\n",
       "      <th>613</th>\n",
       "      <td>876</td>\n",
       "      <td>CN(CC(=O)O)C(=O)c1ccccn1</td>\n",
       "      <td>0</td>\n",
       "    </tr>\n",
       "    <tr>\n",
       "      <th>614</th>\n",
       "      <td>878</td>\n",
       "      <td>O=C(c1c(F)cccc1F)N1CCCCCC1</td>\n",
       "      <td>0</td>\n",
       "    </tr>\n",
       "    <tr>\n",
       "      <th>615</th>\n",
       "      <td>879</td>\n",
       "      <td>Fc1cccnc1NCC1CCOCC1</td>\n",
       "      <td>0</td>\n",
       "    </tr>\n",
       "  </tbody>\n",
       "</table>\n",
       "<p>616 rows × 3 columns</p>\n",
       "</div>"
      ],
      "text/plain": [
       "     Drug_ID                                     Drug  Y\n",
       "0          1             CC(=O)NCCc1c[nH]c2ccc(F)cc12  1\n",
       "1          2             NC(=O)[C@H]1CCC[C@H]1c1ccsc1  1\n",
       "2          3              CN1CCCc2ccc(S(N)(=O)=O)cc21  1\n",
       "3          4               CC(=O)Nc1ccc(Oc2ncccn2)cc1  1\n",
       "4          6  O=C(CCl)N1CCN(S(=O)(=O)c2ccc(Cl)cc2)CC1  1\n",
       "..       ...                                      ... ..\n",
       "611      872              CCN(CC)S(=O)(=O)c1ccc(C)cc1  0\n",
       "612      873            O=C(Nc1ccc(F)cc1)Nc1cccc(O)c1  0\n",
       "613      876                 CN(CC(=O)O)C(=O)c1ccccn1  0\n",
       "614      878               O=C(c1c(F)cccc1F)N1CCCCCC1  0\n",
       "615      879                      Fc1cccnc1NCC1CCOCC1  0\n",
       "\n",
       "[616 rows x 3 columns]"
      ]
     },
     "metadata": {},
     "output_type": "display_data"
    },
    {
     "name": "stderr",
     "output_type": "stream",
     "text": [
      "100%|█████████████████████████████████████████████████████████████████████████████████████████████████████████████████████| 93.3k/93.3k [00:00<00:00, 806kiB/s]\n",
      "Done!\n"
     ]
    },
    {
     "data": {
      "text/markdown": [
       "### sarscov2_vitro_touret"
      ],
      "text/plain": [
       "<IPython.core.display.Markdown object>"
      ]
     },
     "metadata": {},
     "output_type": "display_data"
    },
    {
     "data": {
      "text/html": [
       "<div>\n",
       "<style scoped>\n",
       "    .dataframe tbody tr th:only-of-type {\n",
       "        vertical-align: middle;\n",
       "    }\n",
       "\n",
       "    .dataframe tbody tr th {\n",
       "        vertical-align: top;\n",
       "    }\n",
       "\n",
       "    .dataframe thead th {\n",
       "        text-align: right;\n",
       "    }\n",
       "</style>\n",
       "<table border=\"1\" class=\"dataframe\">\n",
       "  <thead>\n",
       "    <tr style=\"text-align: right;\">\n",
       "      <th></th>\n",
       "      <th>Drug_ID</th>\n",
       "      <th>Drug</th>\n",
       "      <th>Y</th>\n",
       "    </tr>\n",
       "  </thead>\n",
       "  <tbody>\n",
       "    <tr>\n",
       "      <th>0</th>\n",
       "      <td>0</td>\n",
       "      <td>CCOc1ccc2nc(S(N)(=O)=O)sc2c1</td>\n",
       "      <td>1</td>\n",
       "    </tr>\n",
       "    <tr>\n",
       "      <th>1</th>\n",
       "      <td>1</td>\n",
       "      <td>C[C@]12C/C(=C/O)C(=O)C[C@@H]1CC[C@@H]1[C@@H]2C...</td>\n",
       "      <td>1</td>\n",
       "    </tr>\n",
       "    <tr>\n",
       "      <th>2</th>\n",
       "      <td>2</td>\n",
       "      <td>Cc1nccn1CC1CCc2c(c3ccccc3n2C)C1=O.Cl</td>\n",
       "      <td>1</td>\n",
       "    </tr>\n",
       "    <tr>\n",
       "      <th>3</th>\n",
       "      <td>3</td>\n",
       "      <td>CC(=O)[C@H]1CC[C@H]2[C@@H]3CC=C4C[C@@H](O)CC[C...</td>\n",
       "      <td>1</td>\n",
       "    </tr>\n",
       "    <tr>\n",
       "      <th>4</th>\n",
       "      <td>4</td>\n",
       "      <td>C=C1CC[C@@]2(O)[C@H]3Cc4ccc(O)c5c4[C@@]2(CCN3C...</td>\n",
       "      <td>1</td>\n",
       "    </tr>\n",
       "    <tr>\n",
       "      <th>...</th>\n",
       "      <td>...</td>\n",
       "      <td>...</td>\n",
       "      <td>...</td>\n",
       "    </tr>\n",
       "    <tr>\n",
       "      <th>1034</th>\n",
       "      <td>1477</td>\n",
       "      <td>O=C(CCCCCCC(=O)Nc1ccccc1)NO</td>\n",
       "      <td>0</td>\n",
       "    </tr>\n",
       "    <tr>\n",
       "      <th>1035</th>\n",
       "      <td>1478</td>\n",
       "      <td>COc1ccccc1OCCNCC(O)COc1cccc2[nH]c3ccccc3c12</td>\n",
       "      <td>0</td>\n",
       "    </tr>\n",
       "    <tr>\n",
       "      <th>1036</th>\n",
       "      <td>1481</td>\n",
       "      <td>Clc1ccc(C(Cn2ccnc2)OCc2csc3c(Cl)cccc23)c(Cl)c1...</td>\n",
       "      <td>0</td>\n",
       "    </tr>\n",
       "    <tr>\n",
       "      <th>1037</th>\n",
       "      <td>1482</td>\n",
       "      <td>CCSc1ccc2c(c1)N(CCCN1CCN(C)CC1)c1ccccc1S2.O=C(...</td>\n",
       "      <td>0</td>\n",
       "    </tr>\n",
       "    <tr>\n",
       "      <th>1038</th>\n",
       "      <td>1483</td>\n",
       "      <td>C=Cc1c(C)c2cc3nc(cc4[nH]c(cc5nc(cc1[nH]2)C(C)=...</td>\n",
       "      <td>0</td>\n",
       "    </tr>\n",
       "  </tbody>\n",
       "</table>\n",
       "<p>1039 rows × 3 columns</p>\n",
       "</div>"
      ],
      "text/plain": [
       "      Drug_ID                                               Drug  Y\n",
       "0           0                       CCOc1ccc2nc(S(N)(=O)=O)sc2c1  1\n",
       "1           1  C[C@]12C/C(=C/O)C(=O)C[C@@H]1CC[C@@H]1[C@@H]2C...  1\n",
       "2           2               Cc1nccn1CC1CCc2c(c3ccccc3n2C)C1=O.Cl  1\n",
       "3           3  CC(=O)[C@H]1CC[C@H]2[C@@H]3CC=C4C[C@@H](O)CC[C...  1\n",
       "4           4  C=C1CC[C@@]2(O)[C@H]3Cc4ccc(O)c5c4[C@@]2(CCN3C...  1\n",
       "...       ...                                                ... ..\n",
       "1034     1477                        O=C(CCCCCCC(=O)Nc1ccccc1)NO  0\n",
       "1035     1478        COc1ccccc1OCCNCC(O)COc1cccc2[nH]c3ccccc3c12  0\n",
       "1036     1481  Clc1ccc(C(Cn2ccnc2)OCc2csc3c(Cl)cccc23)c(Cl)c1...  0\n",
       "1037     1482  CCSc1ccc2c(c1)N(CCCN1CCN(C)CC1)c1ccccc1S2.O=C(...  0\n",
       "1038     1483  C=Cc1c(C)c2cc3nc(cc4[nH]c(cc5nc(cc1[nH]2)C(C)=...  0\n",
       "\n",
       "[1039 rows x 3 columns]"
      ]
     },
     "metadata": {},
     "output_type": "display_data"
    }
   ],
   "source": [
    "from tdc.single_pred import ADME, HTS, Tox\n",
    "from tdc.utils import retrieve_label_name_list\n",
    "\n",
    "# data = ADME(name = 'Caco2_Wang') # no stable identifiers\n",
    "\n",
    "\n",
    "def safe_tox(name):\n",
    "    try:\n",
    "        data = Tox(name=name)\n",
    "    except ValueError as e:\n",
    "        label_names = retrieve_label_name_list(name)\n",
    "        data = Tox(name=name, label_name=label_names[0])\n",
    "    return data\n",
    "\n",
    "\n",
    "for name in hts_dataset_names:\n",
    "    data = HTS(name=name)\n",
    "    split = data.get_split()\n",
    "    display(Markdown(f\"### {name}\"))\n",
    "    display(split[\"train\"])"
   ]
  },
  {
   "cell_type": "code",
   "execution_count": 48,
   "id": "5484a0f2",
   "metadata": {},
   "outputs": [
    {
     "name": "stderr",
     "output_type": "stream",
     "text": [
      "100%|████████████████████████████████████████████████████████████████████████████████████████████████████████████████████| 21.4M/21.4M [00:02<00:00, 9.13MiB/s]\n",
      "Done!\n"
     ]
    },
    {
     "data": {
      "text/html": [
       "<div>\n",
       "<style scoped>\n",
       "    .dataframe tbody tr th:only-of-type {\n",
       "        vertical-align: middle;\n",
       "    }\n",
       "\n",
       "    .dataframe tbody tr th {\n",
       "        vertical-align: top;\n",
       "    }\n",
       "\n",
       "    .dataframe thead th {\n",
       "        text-align: right;\n",
       "    }\n",
       "</style>\n",
       "<table border=\"1\" class=\"dataframe\">\n",
       "  <thead>\n",
       "    <tr style=\"text-align: right;\">\n",
       "      <th></th>\n",
       "      <th>Drug_ID</th>\n",
       "      <th>Drug</th>\n",
       "      <th>Target_ID</th>\n",
       "      <th>Target</th>\n",
       "      <th>Y</th>\n",
       "    </tr>\n",
       "  </thead>\n",
       "  <tbody>\n",
       "    <tr>\n",
       "      <th>0</th>\n",
       "      <td>11314340</td>\n",
       "      <td>Cc1[nH]nc2ccc(-c3cncc(OCC(N)Cc4ccccc4)c3)cc12</td>\n",
       "      <td>AAK1</td>\n",
       "      <td>MKKFFDSRREQGGSGLGSGSSGGGGSTSGLGSGYIGRVFGIGRQQV...</td>\n",
       "      <td>43.0</td>\n",
       "    </tr>\n",
       "    <tr>\n",
       "      <th>1</th>\n",
       "      <td>11314340</td>\n",
       "      <td>Cc1[nH]nc2ccc(-c3cncc(OCC(N)Cc4ccccc4)c3)cc12</td>\n",
       "      <td>ABL1p</td>\n",
       "      <td>PFWKILNPLLERGTYYYFMGQQPGKVLGDQRRPSLPALHFIKGAGK...</td>\n",
       "      <td>10000.0</td>\n",
       "    </tr>\n",
       "    <tr>\n",
       "      <th>2</th>\n",
       "      <td>11314340</td>\n",
       "      <td>Cc1[nH]nc2ccc(-c3cncc(OCC(N)Cc4ccccc4)c3)cc12</td>\n",
       "      <td>ABL2</td>\n",
       "      <td>MVLGTVLLPPNSYGRDQDTSLCCLCTEASESALPDLTDHFASCVED...</td>\n",
       "      <td>10000.0</td>\n",
       "    </tr>\n",
       "    <tr>\n",
       "      <th>3</th>\n",
       "      <td>11314340</td>\n",
       "      <td>Cc1[nH]nc2ccc(-c3cncc(OCC(N)Cc4ccccc4)c3)cc12</td>\n",
       "      <td>ACVR1</td>\n",
       "      <td>MVDGVMILPVLIMIALPSPSMEDEKPKVNPKLYMCVCEGLSCGNED...</td>\n",
       "      <td>10000.0</td>\n",
       "    </tr>\n",
       "    <tr>\n",
       "      <th>4</th>\n",
       "      <td>11314340</td>\n",
       "      <td>Cc1[nH]nc2ccc(-c3cncc(OCC(N)Cc4ccccc4)c3)cc12</td>\n",
       "      <td>ACVR2A</td>\n",
       "      <td>MGAAAKLAFAVFLISCSSGAILGRSETQECLFFNANWEKDRTNQTG...</td>\n",
       "      <td>10000.0</td>\n",
       "    </tr>\n",
       "    <tr>\n",
       "      <th>...</th>\n",
       "      <td>...</td>\n",
       "      <td>...</td>\n",
       "      <td>...</td>\n",
       "      <td>...</td>\n",
       "      <td>...</td>\n",
       "    </tr>\n",
       "    <tr>\n",
       "      <th>18036</th>\n",
       "      <td>151194</td>\n",
       "      <td>Clc1ccc(Nc2nnc(Cc3ccncc3)c3ccccc23)cc1</td>\n",
       "      <td>YES</td>\n",
       "      <td>MGCIKSKENKSPAIKYRPENTPEPVSTSVSHYGAEPTTVSPCPSSS...</td>\n",
       "      <td>10000.0</td>\n",
       "    </tr>\n",
       "    <tr>\n",
       "      <th>18037</th>\n",
       "      <td>151194</td>\n",
       "      <td>Clc1ccc(Nc2nnc(Cc3ccncc3)c3ccccc23)cc1</td>\n",
       "      <td>YSK1</td>\n",
       "      <td>MAHLRGFANQHSRVDPEELFTKLDRIGKGSFGEVYKGIDNHTKEVV...</td>\n",
       "      <td>10000.0</td>\n",
       "    </tr>\n",
       "    <tr>\n",
       "      <th>18038</th>\n",
       "      <td>151194</td>\n",
       "      <td>Clc1ccc(Nc2nnc(Cc3ccncc3)c3ccccc23)cc1</td>\n",
       "      <td>YSK4</td>\n",
       "      <td>MSSMPKPERHAESLLDICHDTNSSPTDLMTVTKNQNIILQSISRSE...</td>\n",
       "      <td>1900.0</td>\n",
       "    </tr>\n",
       "    <tr>\n",
       "      <th>18039</th>\n",
       "      <td>151194</td>\n",
       "      <td>Clc1ccc(Nc2nnc(Cc3ccncc3)c3ccccc23)cc1</td>\n",
       "      <td>ZAK</td>\n",
       "      <td>MSSLGASFVQIKFDDLQFFENCGGGSFGSVYRAKWISQDKEVAVKK...</td>\n",
       "      <td>4400.0</td>\n",
       "    </tr>\n",
       "    <tr>\n",
       "      <th>18040</th>\n",
       "      <td>151194</td>\n",
       "      <td>Clc1ccc(Nc2nnc(Cc3ccncc3)c3ccccc23)cc1</td>\n",
       "      <td>ZAP70</td>\n",
       "      <td>MPDPAAHLPFFYGSISRAEAEEHLKLAGMADGLFLLRQCLRSLGGY...</td>\n",
       "      <td>10000.0</td>\n",
       "    </tr>\n",
       "  </tbody>\n",
       "</table>\n",
       "<p>18041 rows × 5 columns</p>\n",
       "</div>"
      ],
      "text/plain": [
       "        Drug_ID                                           Drug Target_ID  \\\n",
       "0      11314340  Cc1[nH]nc2ccc(-c3cncc(OCC(N)Cc4ccccc4)c3)cc12      AAK1   \n",
       "1      11314340  Cc1[nH]nc2ccc(-c3cncc(OCC(N)Cc4ccccc4)c3)cc12     ABL1p   \n",
       "2      11314340  Cc1[nH]nc2ccc(-c3cncc(OCC(N)Cc4ccccc4)c3)cc12      ABL2   \n",
       "3      11314340  Cc1[nH]nc2ccc(-c3cncc(OCC(N)Cc4ccccc4)c3)cc12     ACVR1   \n",
       "4      11314340  Cc1[nH]nc2ccc(-c3cncc(OCC(N)Cc4ccccc4)c3)cc12    ACVR2A   \n",
       "...         ...                                            ...       ...   \n",
       "18036    151194         Clc1ccc(Nc2nnc(Cc3ccncc3)c3ccccc23)cc1       YES   \n",
       "18037    151194         Clc1ccc(Nc2nnc(Cc3ccncc3)c3ccccc23)cc1      YSK1   \n",
       "18038    151194         Clc1ccc(Nc2nnc(Cc3ccncc3)c3ccccc23)cc1      YSK4   \n",
       "18039    151194         Clc1ccc(Nc2nnc(Cc3ccncc3)c3ccccc23)cc1       ZAK   \n",
       "18040    151194         Clc1ccc(Nc2nnc(Cc3ccncc3)c3ccccc23)cc1     ZAP70   \n",
       "\n",
       "                                                  Target        Y  \n",
       "0      MKKFFDSRREQGGSGLGSGSSGGGGSTSGLGSGYIGRVFGIGRQQV...     43.0  \n",
       "1      PFWKILNPLLERGTYYYFMGQQPGKVLGDQRRPSLPALHFIKGAGK...  10000.0  \n",
       "2      MVLGTVLLPPNSYGRDQDTSLCCLCTEASESALPDLTDHFASCVED...  10000.0  \n",
       "3      MVDGVMILPVLIMIALPSPSMEDEKPKVNPKLYMCVCEGLSCGNED...  10000.0  \n",
       "4      MGAAAKLAFAVFLISCSSGAILGRSETQECLFFNANWEKDRTNQTG...  10000.0  \n",
       "...                                                  ...      ...  \n",
       "18036  MGCIKSKENKSPAIKYRPENTPEPVSTSVSHYGAEPTTVSPCPSSS...  10000.0  \n",
       "18037  MAHLRGFANQHSRVDPEELFTKLDRIGKGSFGEVYKGIDNHTKEVV...  10000.0  \n",
       "18038  MSSMPKPERHAESLLDICHDTNSSPTDLMTVTKNQNIILQSISRSE...   1900.0  \n",
       "18039  MSSLGASFVQIKFDDLQFFENCGGGSFGSVYRAKWISQDKEVAVKK...   4400.0  \n",
       "18040  MPDPAAHLPFFYGSISRAEAEEHLKLAGMADGLFLLRQCLRSLGGY...  10000.0  \n",
       "\n",
       "[18041 rows x 5 columns]"
      ]
     },
     "execution_count": 48,
     "metadata": {},
     "output_type": "execute_result"
    }
   ],
   "source": [
    "from tdc.multi_pred import DTI\n",
    "\n",
    "data = DTI(name=\"DAVIS\")\n",
    "split = data.get_split()\n",
    "\n",
    "\n",
    "split[\"train\"]"
   ]
  },
  {
   "cell_type": "code",
   "execution_count": 50,
   "id": "b67d6b9c",
   "metadata": {},
   "outputs": [
    {
     "name": "stderr",
     "output_type": "stream",
     "text": [
      "Done!\n"
     ]
    },
    {
     "data": {
      "text/html": [
       "<div>\n",
       "<style scoped>\n",
       "    .dataframe tbody tr th:only-of-type {\n",
       "        vertical-align: middle;\n",
       "    }\n",
       "\n",
       "    .dataframe tbody tr th {\n",
       "        vertical-align: top;\n",
       "    }\n",
       "\n",
       "    .dataframe thead th {\n",
       "        text-align: right;\n",
       "    }\n",
       "</style>\n",
       "<table border=\"1\" class=\"dataframe\">\n",
       "  <thead>\n",
       "    <tr style=\"text-align: right;\">\n",
       "      <th></th>\n",
       "      <th>Drug_ID</th>\n",
       "      <th>Drug</th>\n",
       "      <th>Cell Line_ID</th>\n",
       "      <th>Cell Line</th>\n",
       "      <th>Y</th>\n",
       "    </tr>\n",
       "  </thead>\n",
       "  <tbody>\n",
       "    <tr>\n",
       "      <th>0</th>\n",
       "      <td>Erlotinib</td>\n",
       "      <td>COCCOC1=C(C=C2C(=C1)C(=NC=N2)NC3=CC=CC(=C3)C#C...</td>\n",
       "      <td>ES3</td>\n",
       "      <td>[8.690197905033282, 3.0914731119366, 9.9924871...</td>\n",
       "      <td>3.140923</td>\n",
       "    </tr>\n",
       "    <tr>\n",
       "      <th>1</th>\n",
       "      <td>Erlotinib</td>\n",
       "      <td>COCCOC1=C(C=C2C(=C1)C(=NC=N2)NC3=CC=CC(=C3)C#C...</td>\n",
       "      <td>ES5</td>\n",
       "      <td>[8.233101127037282, 2.82468731112752, 10.01588...</td>\n",
       "      <td>3.968757</td>\n",
       "    </tr>\n",
       "    <tr>\n",
       "      <th>2</th>\n",
       "      <td>Erlotinib</td>\n",
       "      <td>COCCOC1=C(C=C2C(=C1)C(=NC=N2)NC3=CC=CC(=C3)C#C...</td>\n",
       "      <td>ES7</td>\n",
       "      <td>[8.33346622426757, 3.9667571228514302, 9.79399...</td>\n",
       "      <td>2.692768</td>\n",
       "    </tr>\n",
       "    <tr>\n",
       "      <th>3</th>\n",
       "      <td>Erlotinib</td>\n",
       "      <td>COCCOC1=C(C=C2C(=C1)C(=NC=N2)NC3=CC=CC(=C3)C#C...</td>\n",
       "      <td>EW-11</td>\n",
       "      <td>[8.39134072442845, 2.9683601858810698, 10.2606...</td>\n",
       "      <td>2.478678</td>\n",
       "    </tr>\n",
       "    <tr>\n",
       "      <th>4</th>\n",
       "      <td>Erlotinib</td>\n",
       "      <td>COCCOC1=C(C=C2C(=C1)C(=NC=N2)NC3=CC=CC(=C3)C#C...</td>\n",
       "      <td>SK-ES-1</td>\n",
       "      <td>[7.87618818572121, 2.8485457282491, 9.28592458...</td>\n",
       "      <td>2.034050</td>\n",
       "    </tr>\n",
       "    <tr>\n",
       "      <th>...</th>\n",
       "      <td>...</td>\n",
       "      <td>...</td>\n",
       "      <td>...</td>\n",
       "      <td>...</td>\n",
       "      <td>...</td>\n",
       "    </tr>\n",
       "    <tr>\n",
       "      <th>124112</th>\n",
       "      <td>PFI-3</td>\n",
       "      <td>C1[C@@H]2CN([C@H]1CN2C3=CC=CC=N3)/C=C/C(=O)C4=...</td>\n",
       "      <td>RCC-AB</td>\n",
       "      <td>[7.60460675003462, 2.73085893679111, 9.9735291...</td>\n",
       "      <td>4.950353</td>\n",
       "    </tr>\n",
       "    <tr>\n",
       "      <th>124113</th>\n",
       "      <td>PFI-3</td>\n",
       "      <td>C1[C@@H]2CN([C@H]1CN2C3=CC=CC=N3)/C=C/C(=O)C4=...</td>\n",
       "      <td>RCC-MF</td>\n",
       "      <td>[7.651798180704731, 2.7460942105568797, 10.055...</td>\n",
       "      <td>5.123645</td>\n",
       "    </tr>\n",
       "    <tr>\n",
       "      <th>124114</th>\n",
       "      <td>PFI-3</td>\n",
       "      <td>C1[C@@H]2CN([C@H]1CN2C3=CC=CC=N3)/C=C/C(=O)C4=...</td>\n",
       "      <td>KMS-11</td>\n",
       "      <td>[3.2931757120088303, 2.7194661607729302, 10.30...</td>\n",
       "      <td>3.940836</td>\n",
       "    </tr>\n",
       "    <tr>\n",
       "      <th>124115</th>\n",
       "      <td>PFI-3</td>\n",
       "      <td>C1[C@@H]2CN([C@H]1CN2C3=CC=CC=N3)/C=C/C(=O)C4=...</td>\n",
       "      <td>SNU-61</td>\n",
       "      <td>[8.077115751588071, 2.78132536810578, 10.03805...</td>\n",
       "      <td>5.785978</td>\n",
       "    </tr>\n",
       "    <tr>\n",
       "      <th>124116</th>\n",
       "      <td>PFI-3</td>\n",
       "      <td>C1[C@@H]2CN([C@H]1CN2C3=CC=CC=N3)/C=C/C(=O)C4=...</td>\n",
       "      <td>SNU-C5</td>\n",
       "      <td>[7.606903479683809, 3.15731861619302, 10.15314...</td>\n",
       "      <td>5.099131</td>\n",
       "    </tr>\n",
       "  </tbody>\n",
       "</table>\n",
       "<p>124117 rows × 5 columns</p>\n",
       "</div>"
      ],
      "text/plain": [
       "          Drug_ID                                               Drug  \\\n",
       "0       Erlotinib  COCCOC1=C(C=C2C(=C1)C(=NC=N2)NC3=CC=CC(=C3)C#C...   \n",
       "1       Erlotinib  COCCOC1=C(C=C2C(=C1)C(=NC=N2)NC3=CC=CC(=C3)C#C...   \n",
       "2       Erlotinib  COCCOC1=C(C=C2C(=C1)C(=NC=N2)NC3=CC=CC(=C3)C#C...   \n",
       "3       Erlotinib  COCCOC1=C(C=C2C(=C1)C(=NC=N2)NC3=CC=CC(=C3)C#C...   \n",
       "4       Erlotinib  COCCOC1=C(C=C2C(=C1)C(=NC=N2)NC3=CC=CC(=C3)C#C...   \n",
       "...           ...                                                ...   \n",
       "124112      PFI-3  C1[C@@H]2CN([C@H]1CN2C3=CC=CC=N3)/C=C/C(=O)C4=...   \n",
       "124113      PFI-3  C1[C@@H]2CN([C@H]1CN2C3=CC=CC=N3)/C=C/C(=O)C4=...   \n",
       "124114      PFI-3  C1[C@@H]2CN([C@H]1CN2C3=CC=CC=N3)/C=C/C(=O)C4=...   \n",
       "124115      PFI-3  C1[C@@H]2CN([C@H]1CN2C3=CC=CC=N3)/C=C/C(=O)C4=...   \n",
       "124116      PFI-3  C1[C@@H]2CN([C@H]1CN2C3=CC=CC=N3)/C=C/C(=O)C4=...   \n",
       "\n",
       "       Cell Line_ID                                          Cell Line  \\\n",
       "0               ES3  [8.690197905033282, 3.0914731119366, 9.9924871...   \n",
       "1               ES5  [8.233101127037282, 2.82468731112752, 10.01588...   \n",
       "2               ES7  [8.33346622426757, 3.9667571228514302, 9.79399...   \n",
       "3             EW-11  [8.39134072442845, 2.9683601858810698, 10.2606...   \n",
       "4           SK-ES-1  [7.87618818572121, 2.8485457282491, 9.28592458...   \n",
       "...             ...                                                ...   \n",
       "124112       RCC-AB  [7.60460675003462, 2.73085893679111, 9.9735291...   \n",
       "124113       RCC-MF  [7.651798180704731, 2.7460942105568797, 10.055...   \n",
       "124114       KMS-11  [3.2931757120088303, 2.7194661607729302, 10.30...   \n",
       "124115       SNU-61  [8.077115751588071, 2.78132536810578, 10.03805...   \n",
       "124116       SNU-C5  [7.606903479683809, 3.15731861619302, 10.15314...   \n",
       "\n",
       "               Y  \n",
       "0       3.140923  \n",
       "1       3.968757  \n",
       "2       2.692768  \n",
       "3       2.478678  \n",
       "4       2.034050  \n",
       "...          ...  \n",
       "124112  4.950353  \n",
       "124113  5.123645  \n",
       "124114  3.940836  \n",
       "124115  5.785978  \n",
       "124116  5.099131  \n",
       "\n",
       "[124117 rows x 5 columns]"
      ]
     },
     "execution_count": 50,
     "metadata": {},
     "output_type": "execute_result"
    }
   ],
   "source": [
    "from tdc.multi_pred import DrugRes\n",
    "\n",
    "data = DrugRes(name=\"GDSC1\")\n",
    "split = data.get_split()\n",
    "split[\"train\"]"
   ]
  },
  {
   "cell_type": "code",
   "execution_count": 51,
   "id": "8e614512",
   "metadata": {},
   "outputs": [
    {
     "name": "stderr",
     "output_type": "stream",
     "text": [
      "100%|███████████████████████████████████████████████████████████████████████████████████████████████████████████████████████| 149k/149k [00:00<00:00, 665kiB/s]\n"
     ]
    },
    {
     "data": {
      "text/plain": [
       "array(['TSPAN6', 'TNMD', 'DPM1', ..., 'UBL5P2', 'TBC1D3P5', nan],\n",
       "      dtype=object)"
      ]
     },
     "execution_count": 51,
     "metadata": {},
     "output_type": "execute_result"
    }
   ],
   "source": [
    "data.get_gene_symbols()"
   ]
  },
  {
   "cell_type": "code",
   "execution_count": 31,
   "id": "aaa38207",
   "metadata": {},
   "outputs": [],
   "source": [
    "from tdc.metadata import adme_dataset_names, hts_dataset_names, toxicity_dataset_names"
   ]
  },
  {
   "cell_type": "code",
   "execution_count": 41,
   "id": "d8c956dd",
   "metadata": {},
   "outputs": [
    {
     "name": "stderr",
     "output_type": "stream",
     "text": [
      "Done!\n",
      "Done!\n",
      "Done!\n",
      "Done!\n"
     ]
    },
    {
     "data": {
      "application/vnd.jupyter.widget-view+json": {
       "model_id": "1a18acf49bee49b3a6e2db1f0dcdb822",
       "version_major": 2,
       "version_minor": 0
      },
      "text/plain": [
       "dataset:   0%|          | 0/22 [00:00<?, ?it/s]"
      ]
     },
     "metadata": {},
     "output_type": "display_data"
    },
    {
     "data": {
      "application/vnd.jupyter.widget-view+json": {
       "model_id": "",
       "version_major": 2,
       "version_minor": 0
      },
      "text/plain": [
       "caco2_wang - train:   0%|          | 0.00/637 [00:00<?, ?it/s]"
      ]
     },
     "metadata": {},
     "output_type": "display_data"
    },
    {
     "data": {
      "application/vnd.jupyter.widget-view+json": {
       "model_id": "",
       "version_major": 2,
       "version_minor": 0
      },
      "text/plain": [
       "caco2_wang - valid:   0%|          | 0.00/91.0 [00:00<?, ?it/s]"
      ]
     },
     "metadata": {},
     "output_type": "display_data"
    },
    {
     "data": {
      "application/vnd.jupyter.widget-view+json": {
       "model_id": "",
       "version_major": 2,
       "version_minor": 0
      },
      "text/plain": [
       "caco2_wang - test:   0%|          | 0.00/182 [00:00<?, ?it/s]"
      ]
     },
     "metadata": {},
     "output_type": "display_data"
    },
    {
     "data": {
      "application/vnd.jupyter.widget-view+json": {
       "model_id": "",
       "version_major": 2,
       "version_minor": 0
      },
      "text/plain": [
       "hia_hou - train:   0%|          | 0.00/404 [00:00<?, ?it/s]"
      ]
     },
     "metadata": {},
     "output_type": "display_data"
    },
    {
     "data": {
      "application/vnd.jupyter.widget-view+json": {
       "model_id": "",
       "version_major": 2,
       "version_minor": 0
      },
      "text/plain": [
       "hia_hou - valid:   0%|          | 0.00/58.0 [00:00<?, ?it/s]"
      ]
     },
     "metadata": {},
     "output_type": "display_data"
    },
    {
     "data": {
      "application/vnd.jupyter.widget-view+json": {
       "model_id": "",
       "version_major": 2,
       "version_minor": 0
      },
      "text/plain": [
       "hia_hou - test:   0%|          | 0.00/116 [00:00<?, ?it/s]"
      ]
     },
     "metadata": {},
     "output_type": "display_data"
    },
    {
     "data": {
      "application/vnd.jupyter.widget-view+json": {
       "model_id": "",
       "version_major": 2,
       "version_minor": 0
      },
      "text/plain": [
       "pgp_broccatelli - train:   0%|          | 0.00/852 [00:00<?, ?it/s]"
      ]
     },
     "metadata": {},
     "output_type": "display_data"
    },
    {
     "data": {
      "application/vnd.jupyter.widget-view+json": {
       "model_id": "",
       "version_major": 2,
       "version_minor": 0
      },
      "text/plain": [
       "pgp_broccatelli - valid:   0%|          | 0.00/122 [00:00<?, ?it/s]"
      ]
     },
     "metadata": {},
     "output_type": "display_data"
    },
    {
     "data": {
      "application/vnd.jupyter.widget-view+json": {
       "model_id": "",
       "version_major": 2,
       "version_minor": 0
      },
      "text/plain": [
       "pgp_broccatelli - test:   0%|          | 0.00/244 [00:00<?, ?it/s]"
      ]
     },
     "metadata": {},
     "output_type": "display_data"
    },
    {
     "data": {
      "application/vnd.jupyter.widget-view+json": {
       "model_id": "",
       "version_major": 2,
       "version_minor": 0
      },
      "text/plain": [
       "bioavailability_ma - train:   0%|          | 0.00/448 [00:00<?, ?it/s]"
      ]
     },
     "metadata": {},
     "output_type": "display_data"
    },
    {
     "data": {
      "application/vnd.jupyter.widget-view+json": {
       "model_id": "",
       "version_major": 2,
       "version_minor": 0
      },
      "text/plain": [
       "bioavailability_ma - valid:   0%|          | 0.00/64.0 [00:00<?, ?it/s]"
      ]
     },
     "metadata": {},
     "output_type": "display_data"
    },
    {
     "data": {
      "application/vnd.jupyter.widget-view+json": {
       "model_id": "",
       "version_major": 2,
       "version_minor": 0
      },
      "text/plain": [
       "bioavailability_ma - test:   0%|          | 0.00/128 [00:00<?, ?it/s]"
      ]
     },
     "metadata": {},
     "output_type": "display_data"
    },
    {
     "data": {
      "application/vnd.jupyter.widget-view+json": {
       "model_id": "",
       "version_major": 2,
       "version_minor": 0
      },
      "text/plain": [
       "solubility_aqsoldb - train:   0%|          | 0.00/6.99k [00:00<?, ?it/s]"
      ]
     },
     "metadata": {},
     "output_type": "display_data"
    },
    {
     "data": {
      "application/vnd.jupyter.widget-view+json": {
       "model_id": "",
       "version_major": 2,
       "version_minor": 0
      },
      "text/plain": [
       "solubility_aqsoldb - valid:   0%|          | 0.00/998 [00:00<?, ?it/s]"
      ]
     },
     "metadata": {},
     "output_type": "display_data"
    },
    {
     "data": {
      "application/vnd.jupyter.widget-view+json": {
       "model_id": "",
       "version_major": 2,
       "version_minor": 0
      },
      "text/plain": [
       "solubility_aqsoldb - test:   0%|          | 0.00/2.00k [00:00<?, ?it/s]"
      ]
     },
     "metadata": {},
     "output_type": "display_data"
    },
    {
     "data": {
      "application/vnd.jupyter.widget-view+json": {
       "model_id": "",
       "version_major": 2,
       "version_minor": 0
      },
      "text/plain": [
       "bbb_martins - train:   0%|          | 0.00/1.42k [00:00<?, ?it/s]"
      ]
     },
     "metadata": {},
     "output_type": "display_data"
    },
    {
     "data": {
      "application/vnd.jupyter.widget-view+json": {
       "model_id": "",
       "version_major": 2,
       "version_minor": 0
      },
      "text/plain": [
       "bbb_martins - valid:   0%|          | 0.00/203 [00:00<?, ?it/s]"
      ]
     },
     "metadata": {},
     "output_type": "display_data"
    },
    {
     "data": {
      "application/vnd.jupyter.widget-view+json": {
       "model_id": "",
       "version_major": 2,
       "version_minor": 0
      },
      "text/plain": [
       "bbb_martins - test:   0%|          | 0.00/406 [00:00<?, ?it/s]"
      ]
     },
     "metadata": {},
     "output_type": "display_data"
    },
    {
     "data": {
      "application/vnd.jupyter.widget-view+json": {
       "model_id": "",
       "version_major": 2,
       "version_minor": 0
      },
      "text/plain": [
       "vdss_lombardo - train:   0%|          | 0.00/791 [00:00<?, ?it/s]"
      ]
     },
     "metadata": {},
     "output_type": "display_data"
    },
    {
     "data": {
      "application/vnd.jupyter.widget-view+json": {
       "model_id": "",
       "version_major": 2,
       "version_minor": 0
      },
      "text/plain": [
       "vdss_lombardo - valid:   0%|          | 0.00/113 [00:00<?, ?it/s]"
      ]
     },
     "metadata": {},
     "output_type": "display_data"
    },
    {
     "data": {
      "application/vnd.jupyter.widget-view+json": {
       "model_id": "",
       "version_major": 2,
       "version_minor": 0
      },
      "text/plain": [
       "vdss_lombardo - test:   0%|          | 0.00/226 [00:00<?, ?it/s]"
      ]
     },
     "metadata": {},
     "output_type": "display_data"
    },
    {
     "data": {
      "application/vnd.jupyter.widget-view+json": {
       "model_id": "",
       "version_major": 2,
       "version_minor": 0
      },
      "text/plain": [
       "cyp2d6_substrate_carbonmangels - train:   0%|          | 0.00/467 [00:00<?, ?it/s]"
      ]
     },
     "metadata": {},
     "output_type": "display_data"
    },
    {
     "data": {
      "application/vnd.jupyter.widget-view+json": {
       "model_id": "",
       "version_major": 2,
       "version_minor": 0
      },
      "text/plain": [
       "cyp2d6_substrate_carbonmangels - valid:   0%|          | 0.00/67.0 [00:00<?, ?it/s]"
      ]
     },
     "metadata": {},
     "output_type": "display_data"
    },
    {
     "data": {
      "application/vnd.jupyter.widget-view+json": {
       "model_id": "",
       "version_major": 2,
       "version_minor": 0
      },
      "text/plain": [
       "cyp2d6_substrate_carbonmangels - test:   0%|          | 0.00/133 [00:00<?, ?it/s]"
      ]
     },
     "metadata": {},
     "output_type": "display_data"
    },
    {
     "data": {
      "application/vnd.jupyter.widget-view+json": {
       "model_id": "",
       "version_major": 2,
       "version_minor": 0
      },
      "text/plain": [
       "cyp3a4_substrate_carbonmangels - train:   0%|          | 0.00/469 [00:00<?, ?it/s]"
      ]
     },
     "metadata": {},
     "output_type": "display_data"
    },
    {
     "data": {
      "application/vnd.jupyter.widget-view+json": {
       "model_id": "",
       "version_major": 2,
       "version_minor": 0
      },
      "text/plain": [
       "cyp3a4_substrate_carbonmangels - valid:   0%|          | 0.00/67.0 [00:00<?, ?it/s]"
      ]
     },
     "metadata": {},
     "output_type": "display_data"
    },
    {
     "data": {
      "application/vnd.jupyter.widget-view+json": {
       "model_id": "",
       "version_major": 2,
       "version_minor": 0
      },
      "text/plain": [
       "cyp3a4_substrate_carbonmangels - test:   0%|          | 0.00/134 [00:00<?, ?it/s]"
      ]
     },
     "metadata": {},
     "output_type": "display_data"
    },
    {
     "data": {
      "application/vnd.jupyter.widget-view+json": {
       "model_id": "",
       "version_major": 2,
       "version_minor": 0
      },
      "text/plain": [
       "cyp2c9_substrate_carbonmangels - train:   0%|          | 0.00/468 [00:00<?, ?it/s]"
      ]
     },
     "metadata": {},
     "output_type": "display_data"
    },
    {
     "data": {
      "application/vnd.jupyter.widget-view+json": {
       "model_id": "",
       "version_major": 2,
       "version_minor": 0
      },
      "text/plain": [
       "cyp2c9_substrate_carbonmangels - valid:   0%|          | 0.00/67.0 [00:00<?, ?it/s]"
      ]
     },
     "metadata": {},
     "output_type": "display_data"
    },
    {
     "data": {
      "application/vnd.jupyter.widget-view+json": {
       "model_id": "",
       "version_major": 2,
       "version_minor": 0
      },
      "text/plain": [
       "cyp2c9_substrate_carbonmangels - test:   0%|          | 0.00/134 [00:00<?, ?it/s]"
      ]
     },
     "metadata": {},
     "output_type": "display_data"
    },
    {
     "data": {
      "application/vnd.jupyter.widget-view+json": {
       "model_id": "",
       "version_major": 2,
       "version_minor": 0
      },
      "text/plain": [
       "herg - train:   0%|          | 0.00/458 [00:00<?, ?it/s]"
      ]
     },
     "metadata": {},
     "output_type": "display_data"
    },
    {
     "data": {
      "application/vnd.jupyter.widget-view+json": {
       "model_id": "",
       "version_major": 2,
       "version_minor": 0
      },
      "text/plain": [
       "herg - valid:   0%|          | 0.00/66.0 [00:00<?, ?it/s]"
      ]
     },
     "metadata": {},
     "output_type": "display_data"
    },
    {
     "data": {
      "application/vnd.jupyter.widget-view+json": {
       "model_id": "",
       "version_major": 2,
       "version_minor": 0
      },
      "text/plain": [
       "herg - test:   0%|          | 0.00/131 [00:00<?, ?it/s]"
      ]
     },
     "metadata": {},
     "output_type": "display_data"
    },
    {
     "data": {
      "application/vnd.jupyter.widget-view+json": {
       "model_id": "",
       "version_major": 2,
       "version_minor": 0
      },
      "text/plain": [
       "ld50_zhu - train:   0%|          | 0.00/5.17k [00:00<?, ?it/s]"
      ]
     },
     "metadata": {},
     "output_type": "display_data"
    },
    {
     "data": {
      "application/vnd.jupyter.widget-view+json": {
       "model_id": "",
       "version_major": 2,
       "version_minor": 0
      },
      "text/plain": [
       "ld50_zhu - valid:   0%|          | 0.00/738 [00:00<?, ?it/s]"
      ]
     },
     "metadata": {},
     "output_type": "display_data"
    },
    {
     "data": {
      "application/vnd.jupyter.widget-view+json": {
       "model_id": "",
       "version_major": 2,
       "version_minor": 0
      },
      "text/plain": [
       "ld50_zhu - test:   0%|          | 0.00/1.48k [00:00<?, ?it/s]"
      ]
     },
     "metadata": {},
     "output_type": "display_data"
    },
    {
     "data": {
      "text/html": [
       "<div>\n",
       "<style scoped>\n",
       "    .dataframe tbody tr th:only-of-type {\n",
       "        vertical-align: middle;\n",
       "    }\n",
       "\n",
       "    .dataframe tbody tr th {\n",
       "        vertical-align: top;\n",
       "    }\n",
       "\n",
       "    .dataframe thead th {\n",
       "        text-align: right;\n",
       "    }\n",
       "</style>\n",
       "<table border=\"1\" class=\"dataframe\">\n",
       "  <thead>\n",
       "    <tr style=\"text-align: right;\">\n",
       "      <th></th>\n",
       "      <th>type</th>\n",
       "      <th>name</th>\n",
       "      <th>train_g</th>\n",
       "      <th>train_ung</th>\n",
       "      <th>train_percent</th>\n",
       "    </tr>\n",
       "  </thead>\n",
       "  <tbody>\n",
       "    <tr>\n",
       "      <th>0</th>\n",
       "      <td>adme</td>\n",
       "      <td>caco2_wang</td>\n",
       "      <td>183</td>\n",
       "      <td>454</td>\n",
       "      <td>28.73</td>\n",
       "    </tr>\n",
       "    <tr>\n",
       "      <th>1</th>\n",
       "      <td>adme</td>\n",
       "      <td>hia_hou</td>\n",
       "      <td>102</td>\n",
       "      <td>302</td>\n",
       "      <td>25.25</td>\n",
       "    </tr>\n",
       "    <tr>\n",
       "      <th>2</th>\n",
       "      <td>adme</td>\n",
       "      <td>pgp_broccatelli</td>\n",
       "      <td>316</td>\n",
       "      <td>536</td>\n",
       "      <td>37.09</td>\n",
       "    </tr>\n",
       "    <tr>\n",
       "      <th>3</th>\n",
       "      <td>adme</td>\n",
       "      <td>bioavailability_ma</td>\n",
       "      <td>429</td>\n",
       "      <td>19</td>\n",
       "      <td>95.76</td>\n",
       "    </tr>\n",
       "    <tr>\n",
       "      <th>4</th>\n",
       "      <td>adme</td>\n",
       "      <td>solubility_aqsoldb</td>\n",
       "      <td>1825</td>\n",
       "      <td>5163</td>\n",
       "      <td>26.12</td>\n",
       "    </tr>\n",
       "    <tr>\n",
       "      <th>5</th>\n",
       "      <td>adme</td>\n",
       "      <td>bbb_martins</td>\n",
       "      <td>796</td>\n",
       "      <td>625</td>\n",
       "      <td>56.02</td>\n",
       "    </tr>\n",
       "    <tr>\n",
       "      <th>6</th>\n",
       "      <td>adme</td>\n",
       "      <td>vdss_lombardo</td>\n",
       "      <td>597</td>\n",
       "      <td>194</td>\n",
       "      <td>75.47</td>\n",
       "    </tr>\n",
       "    <tr>\n",
       "      <th>7</th>\n",
       "      <td>adme</td>\n",
       "      <td>cyp2d6_substrate_carbonmangels</td>\n",
       "      <td>419</td>\n",
       "      <td>48</td>\n",
       "      <td>89.72</td>\n",
       "    </tr>\n",
       "    <tr>\n",
       "      <th>8</th>\n",
       "      <td>adme</td>\n",
       "      <td>cyp3a4_substrate_carbonmangels</td>\n",
       "      <td>415</td>\n",
       "      <td>54</td>\n",
       "      <td>88.49</td>\n",
       "    </tr>\n",
       "    <tr>\n",
       "      <th>9</th>\n",
       "      <td>adme</td>\n",
       "      <td>cyp2c9_substrate_carbonmangels</td>\n",
       "      <td>412</td>\n",
       "      <td>56</td>\n",
       "      <td>88.03</td>\n",
       "    </tr>\n",
       "    <tr>\n",
       "      <th>10</th>\n",
       "      <td>tox</td>\n",
       "      <td>herg</td>\n",
       "      <td>237</td>\n",
       "      <td>221</td>\n",
       "      <td>51.75</td>\n",
       "    </tr>\n",
       "    <tr>\n",
       "      <th>11</th>\n",
       "      <td>tox</td>\n",
       "      <td>ld50_zhu</td>\n",
       "      <td>214</td>\n",
       "      <td>4956</td>\n",
       "      <td>4.14</td>\n",
       "    </tr>\n",
       "  </tbody>\n",
       "</table>\n",
       "</div>"
      ],
      "text/plain": [
       "    type                            name  train_g  train_ung  train_percent\n",
       "0   adme                      caco2_wang      183        454          28.73\n",
       "1   adme                         hia_hou      102        302          25.25\n",
       "2   adme                 pgp_broccatelli      316        536          37.09\n",
       "3   adme              bioavailability_ma      429         19          95.76\n",
       "4   adme              solubility_aqsoldb     1825       5163          26.12\n",
       "5   adme                     bbb_martins      796        625          56.02\n",
       "6   adme                   vdss_lombardo      597        194          75.47\n",
       "7   adme  cyp2d6_substrate_carbonmangels      419         48          89.72\n",
       "8   adme  cyp3a4_substrate_carbonmangels      415         54          88.49\n",
       "9   adme  cyp2c9_substrate_carbonmangels      412         56          88.03\n",
       "10   tox                            herg      237        221          51.75\n",
       "11   tox                        ld50_zhu      214       4956           4.14"
      ]
     },
     "execution_count": 41,
     "metadata": {},
     "output_type": "execute_result"
    }
   ],
   "source": [
    "import gilda\n",
    "import pandas as pd\n",
    "from IPython.display import HTML, Markdown, display\n",
    "from tqdm.auto import tqdm\n",
    "\n",
    "identifiers = {\n",
    "    \"lipophilicity_astrazeneca\": \"chembl\",\n",
    "    \"ppbr_az\": \"chembl\",\n",
    "    \"cyp2d6_veith\": \"pubchem\",\n",
    "    \"cyp3a4_veith\": \"pubchem\",\n",
    "    \"cyp2c9_veith\": \"pubchem\",\n",
    "    \"half_life_obach\": \"chembl\",\n",
    "    \"clearance_microsome_az\": \"chembl\",\n",
    "    \"clearance_hepatocyte_az\": \"chembl\",\n",
    "    \"dili\": \"pubchem\",\n",
    "    \"ames\": None,  # nonsense numbering\n",
    "    # Tox\n",
    "    \"carcinogens_lagunin\": None,\n",
    "    \"clintox\": None,\n",
    "    # HTS\n",
    "    \"hiv\": None,\n",
    "    \"sarscov2_3clpro_diamond\": None,\n",
    "    \"sarscov2_vitro_touret\": None,\n",
    "}\n",
    "\n",
    "\n",
    "def _g(d, k):\n",
    "    c, l = d[k]\n",
    "    return c, l - c, round(100 * c / l, 2)\n",
    "\n",
    "\n",
    "rows = []\n",
    "\n",
    "datasets = []\n",
    "datasets.extend((\"adme\", name, ADME(name=name)) for name in admet_benchmark[\"ADME\"])\n",
    "datasets.extend((\"tox\", name, safe_tox(name=name)) for name in admet_benchmark[\"Tox\"])\n",
    "\n",
    "\n",
    "for t, name, data in tqdm(datasets, desc=\"dataset\"):\n",
    "    if name in identifiers:\n",
    "        continue\n",
    "\n",
    "    split = data.get_split()\n",
    "\n",
    "    r = {}\n",
    "    for split_name, df in split.items():\n",
    "        c = 0\n",
    "        for entry in tqdm(\n",
    "            df[\"Drug_ID\"], desc=f\"{name} - {split_name}\", unit_scale=True, leave=False\n",
    "        ):\n",
    "            if pd.isna(entry):\n",
    "                continue\n",
    "            matches = gilda.ground(\n",
    "                entry, namespaces=[\"CHEBI\", \"CHEMBL\", \"DRUGBANK\", \"PUBCHEM\"]\n",
    "            )\n",
    "            if matches:\n",
    "                c += 1\n",
    "        r[split_name] = c, len(df.index)\n",
    "    rows.append(\n",
    "        (\n",
    "            t,\n",
    "            name,\n",
    "            *_g(r, \"train\"),\n",
    "            # *_g(r, \"test\"),\n",
    "            # *_g(r, \"valid\"),\n",
    "        )\n",
    "    )\n",
    "\n",
    "df = pd.DataFrame(\n",
    "    rows,\n",
    "    columns=[\n",
    "        \"type\",\n",
    "        \"name\",\n",
    "        \"train_g\",\n",
    "        \"train_ung\",\n",
    "        \"train_percent\",\n",
    "        # \"test_g\", \"test_ung\",\"test_percent\",\n",
    "        # \"valid_g\", \"valid_ung\", \"valid_percent\",\n",
    "    ],\n",
    ")\n",
    "df"
   ]
  }
 ],
 "metadata": {
  "kernelspec": {
   "display_name": "Python 3 (ipykernel)",
   "language": "python",
   "name": "python3"
  },
  "language_info": {
   "codemirror_mode": {
    "name": "ipython",
    "version": 3
   },
   "file_extension": ".py",
   "mimetype": "text/x-python",
   "name": "python",
   "nbconvert_exporter": "python",
   "pygments_lexer": "ipython3",
   "version": "3.11.0"
  }
 },
 "nbformat": 4,
 "nbformat_minor": 5
}
